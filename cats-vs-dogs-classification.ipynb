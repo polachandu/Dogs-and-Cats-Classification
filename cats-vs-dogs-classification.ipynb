{
 "cells": [
  {
   "cell_type": "code",
   "execution_count": 1,
   "id": "2f2ff5ea",
   "metadata": {
    "_cell_guid": "b1076dfc-b9ad-4769-8c92-a6c4dae69d19",
    "_uuid": "8f2839f25d086af736a60e9eeb907d3b93b6e0e5",
    "execution": {
     "iopub.execute_input": "2025-01-18T18:50:47.116896Z",
     "iopub.status.busy": "2025-01-18T18:50:47.116507Z",
     "iopub.status.idle": "2025-01-18T18:50:47.987787Z",
     "shell.execute_reply": "2025-01-18T18:50:47.986758Z"
    },
    "papermill": {
     "duration": 0.878316,
     "end_time": "2025-01-18T18:50:47.990104",
     "exception": false,
     "start_time": "2025-01-18T18:50:47.111788",
     "status": "completed"
    },
    "tags": []
   },
   "outputs": [],
   "source": [
    "# This Python 3 environment comes with many helpful analytics libraries installed\n",
    "# It is defined by the kaggle/python Docker image: https://github.com/kaggle/docker-python\n",
    "# For example, here's several helpful packages to load\n",
    "\n",
    "import numpy as np # linear algebra\n",
    "import pandas as pd # data processing, CSV file I/O (e.g. pd.read_csv)\n",
    "\n",
    "# Input data files are available in the read-only \"../input/\" directory\n",
    "# For example, running this (by clicking run or pressing Shift+Enter) will list all files under the input directory\n",
    "\n",
    "import os\n",
    "# You can write up to 20GB to the current directory (/kaggle/working/) that gets preserved as output when you create a version using \"Save & Run All\" \n",
    "# You can also write temporary files to /kaggle/temp/, but they won't be saved outside of the current session"
   ]
  },
  {
   "cell_type": "code",
   "execution_count": 2,
   "id": "ce377e35",
   "metadata": {
    "execution": {
     "iopub.execute_input": "2025-01-18T18:50:48.001772Z",
     "iopub.status.busy": "2025-01-18T18:50:48.001277Z",
     "iopub.status.idle": "2025-01-18T18:50:48.984430Z",
     "shell.execute_reply": "2025-01-18T18:50:48.983310Z"
    },
    "papermill": {
     "duration": 0.990676,
     "end_time": "2025-01-18T18:50:48.986409",
     "exception": false,
     "start_time": "2025-01-18T18:50:47.995733",
     "status": "completed"
    },
    "tags": []
   },
   "outputs": [],
   "source": [
    "import plotly.express as px\n",
    "import pdb\n",
    "import random\n",
    "from shutil import copyfile"
   ]
  },
  {
   "cell_type": "code",
   "execution_count": 3,
   "id": "8d3b8614",
   "metadata": {
    "execution": {
     "iopub.execute_input": "2025-01-18T18:50:48.993450Z",
     "iopub.status.busy": "2025-01-18T18:50:48.992921Z",
     "iopub.status.idle": "2025-01-18T18:50:50.918187Z",
     "shell.execute_reply": "2025-01-18T18:50:50.917343Z"
    },
    "papermill": {
     "duration": 1.930376,
     "end_time": "2025-01-18T18:50:50.919773",
     "exception": false,
     "start_time": "2025-01-18T18:50:48.989397",
     "status": "completed"
    },
    "tags": []
   },
   "outputs": [
    {
     "data": {
      "text/html": [
       "<html>\n",
       "<head><meta charset=\"utf-8\" /></head>\n",
       "<body>\n",
       "    <div>            <script src=\"https://cdnjs.cloudflare.com/ajax/libs/mathjax/2.7.5/MathJax.js?config=TeX-AMS-MML_SVG\"></script><script type=\"text/javascript\">if (window.MathJax && window.MathJax.Hub && window.MathJax.Hub.Config) {window.MathJax.Hub.Config({SVG: {font: \"STIX-Web\"}});}</script>                <script type=\"text/javascript\">window.PlotlyConfig = {MathJaxConfig: 'local'};</script>\n",
       "        <script charset=\"utf-8\" src=\"https://cdn.plot.ly/plotly-2.35.2.min.js\"></script>                <div id=\"ff53eb76-dea6-4ac5-a6b9-85b498cc21ac\" class=\"plotly-graph-div\" style=\"height:525px; width:100%;\"></div>            <script type=\"text/javascript\">                                    window.PLOTLYENV=window.PLOTLYENV || {};                                    if (document.getElementById(\"ff53eb76-dea6-4ac5-a6b9-85b498cc21ac\")) {                    Plotly.newPlot(                        \"ff53eb76-dea6-4ac5-a6b9-85b498cc21ac\",                        [{\"domain\":{\"x\":[0.0,1.0],\"y\":[0.0,1.0]},\"hovertemplate\":\"label=%{label}\\u003cbr\\u003evalue=%{value}\\u003cextra\\u003e\\u003c\\u002fextra\\u003e\",\"labels\":[\"Cat\",\"Dog\"],\"legendgroup\":\"\",\"name\":\"\",\"showlegend\":true,\"values\":[12501,12501],\"type\":\"pie\"}],                        {\"template\":{\"data\":{\"histogram2dcontour\":[{\"type\":\"histogram2dcontour\",\"colorbar\":{\"outlinewidth\":0,\"ticks\":\"\"},\"colorscale\":[[0.0,\"#0d0887\"],[0.1111111111111111,\"#46039f\"],[0.2222222222222222,\"#7201a8\"],[0.3333333333333333,\"#9c179e\"],[0.4444444444444444,\"#bd3786\"],[0.5555555555555556,\"#d8576b\"],[0.6666666666666666,\"#ed7953\"],[0.7777777777777778,\"#fb9f3a\"],[0.8888888888888888,\"#fdca26\"],[1.0,\"#f0f921\"]]}],\"choropleth\":[{\"type\":\"choropleth\",\"colorbar\":{\"outlinewidth\":0,\"ticks\":\"\"}}],\"histogram2d\":[{\"type\":\"histogram2d\",\"colorbar\":{\"outlinewidth\":0,\"ticks\":\"\"},\"colorscale\":[[0.0,\"#0d0887\"],[0.1111111111111111,\"#46039f\"],[0.2222222222222222,\"#7201a8\"],[0.3333333333333333,\"#9c179e\"],[0.4444444444444444,\"#bd3786\"],[0.5555555555555556,\"#d8576b\"],[0.6666666666666666,\"#ed7953\"],[0.7777777777777778,\"#fb9f3a\"],[0.8888888888888888,\"#fdca26\"],[1.0,\"#f0f921\"]]}],\"heatmap\":[{\"type\":\"heatmap\",\"colorbar\":{\"outlinewidth\":0,\"ticks\":\"\"},\"colorscale\":[[0.0,\"#0d0887\"],[0.1111111111111111,\"#46039f\"],[0.2222222222222222,\"#7201a8\"],[0.3333333333333333,\"#9c179e\"],[0.4444444444444444,\"#bd3786\"],[0.5555555555555556,\"#d8576b\"],[0.6666666666666666,\"#ed7953\"],[0.7777777777777778,\"#fb9f3a\"],[0.8888888888888888,\"#fdca26\"],[1.0,\"#f0f921\"]]}],\"heatmapgl\":[{\"type\":\"heatmapgl\",\"colorbar\":{\"outlinewidth\":0,\"ticks\":\"\"},\"colorscale\":[[0.0,\"#0d0887\"],[0.1111111111111111,\"#46039f\"],[0.2222222222222222,\"#7201a8\"],[0.3333333333333333,\"#9c179e\"],[0.4444444444444444,\"#bd3786\"],[0.5555555555555556,\"#d8576b\"],[0.6666666666666666,\"#ed7953\"],[0.7777777777777778,\"#fb9f3a\"],[0.8888888888888888,\"#fdca26\"],[1.0,\"#f0f921\"]]}],\"contourcarpet\":[{\"type\":\"contourcarpet\",\"colorbar\":{\"outlinewidth\":0,\"ticks\":\"\"}}],\"contour\":[{\"type\":\"contour\",\"colorbar\":{\"outlinewidth\":0,\"ticks\":\"\"},\"colorscale\":[[0.0,\"#0d0887\"],[0.1111111111111111,\"#46039f\"],[0.2222222222222222,\"#7201a8\"],[0.3333333333333333,\"#9c179e\"],[0.4444444444444444,\"#bd3786\"],[0.5555555555555556,\"#d8576b\"],[0.6666666666666666,\"#ed7953\"],[0.7777777777777778,\"#fb9f3a\"],[0.8888888888888888,\"#fdca26\"],[1.0,\"#f0f921\"]]}],\"surface\":[{\"type\":\"surface\",\"colorbar\":{\"outlinewidth\":0,\"ticks\":\"\"},\"colorscale\":[[0.0,\"#0d0887\"],[0.1111111111111111,\"#46039f\"],[0.2222222222222222,\"#7201a8\"],[0.3333333333333333,\"#9c179e\"],[0.4444444444444444,\"#bd3786\"],[0.5555555555555556,\"#d8576b\"],[0.6666666666666666,\"#ed7953\"],[0.7777777777777778,\"#fb9f3a\"],[0.8888888888888888,\"#fdca26\"],[1.0,\"#f0f921\"]]}],\"mesh3d\":[{\"type\":\"mesh3d\",\"colorbar\":{\"outlinewidth\":0,\"ticks\":\"\"}}],\"scatter\":[{\"fillpattern\":{\"fillmode\":\"overlay\",\"size\":10,\"solidity\":0.2},\"type\":\"scatter\"}],\"parcoords\":[{\"type\":\"parcoords\",\"line\":{\"colorbar\":{\"outlinewidth\":0,\"ticks\":\"\"}}}],\"scatterpolargl\":[{\"type\":\"scatterpolargl\",\"marker\":{\"colorbar\":{\"outlinewidth\":0,\"ticks\":\"\"}}}],\"bar\":[{\"error_x\":{\"color\":\"#2a3f5f\"},\"error_y\":{\"color\":\"#2a3f5f\"},\"marker\":{\"line\":{\"color\":\"#E5ECF6\",\"width\":0.5},\"pattern\":{\"fillmode\":\"overlay\",\"size\":10,\"solidity\":0.2}},\"type\":\"bar\"}],\"scattergeo\":[{\"type\":\"scattergeo\",\"marker\":{\"colorbar\":{\"outlinewidth\":0,\"ticks\":\"\"}}}],\"scatterpolar\":[{\"type\":\"scatterpolar\",\"marker\":{\"colorbar\":{\"outlinewidth\":0,\"ticks\":\"\"}}}],\"histogram\":[{\"marker\":{\"pattern\":{\"fillmode\":\"overlay\",\"size\":10,\"solidity\":0.2}},\"type\":\"histogram\"}],\"scattergl\":[{\"type\":\"scattergl\",\"marker\":{\"colorbar\":{\"outlinewidth\":0,\"ticks\":\"\"}}}],\"scatter3d\":[{\"type\":\"scatter3d\",\"line\":{\"colorbar\":{\"outlinewidth\":0,\"ticks\":\"\"}},\"marker\":{\"colorbar\":{\"outlinewidth\":0,\"ticks\":\"\"}}}],\"scattermapbox\":[{\"type\":\"scattermapbox\",\"marker\":{\"colorbar\":{\"outlinewidth\":0,\"ticks\":\"\"}}}],\"scatterternary\":[{\"type\":\"scatterternary\",\"marker\":{\"colorbar\":{\"outlinewidth\":0,\"ticks\":\"\"}}}],\"scattercarpet\":[{\"type\":\"scattercarpet\",\"marker\":{\"colorbar\":{\"outlinewidth\":0,\"ticks\":\"\"}}}],\"carpet\":[{\"aaxis\":{\"endlinecolor\":\"#2a3f5f\",\"gridcolor\":\"white\",\"linecolor\":\"white\",\"minorgridcolor\":\"white\",\"startlinecolor\":\"#2a3f5f\"},\"baxis\":{\"endlinecolor\":\"#2a3f5f\",\"gridcolor\":\"white\",\"linecolor\":\"white\",\"minorgridcolor\":\"white\",\"startlinecolor\":\"#2a3f5f\"},\"type\":\"carpet\"}],\"table\":[{\"cells\":{\"fill\":{\"color\":\"#EBF0F8\"},\"line\":{\"color\":\"white\"}},\"header\":{\"fill\":{\"color\":\"#C8D4E3\"},\"line\":{\"color\":\"white\"}},\"type\":\"table\"}],\"barpolar\":[{\"marker\":{\"line\":{\"color\":\"#E5ECF6\",\"width\":0.5},\"pattern\":{\"fillmode\":\"overlay\",\"size\":10,\"solidity\":0.2}},\"type\":\"barpolar\"}],\"pie\":[{\"automargin\":true,\"type\":\"pie\"}]},\"layout\":{\"autotypenumbers\":\"strict\",\"colorway\":[\"#636efa\",\"#EF553B\",\"#00cc96\",\"#ab63fa\",\"#FFA15A\",\"#19d3f3\",\"#FF6692\",\"#B6E880\",\"#FF97FF\",\"#FECB52\"],\"font\":{\"color\":\"#2a3f5f\"},\"hovermode\":\"closest\",\"hoverlabel\":{\"align\":\"left\"},\"paper_bgcolor\":\"white\",\"plot_bgcolor\":\"#E5ECF6\",\"polar\":{\"bgcolor\":\"#E5ECF6\",\"angularaxis\":{\"gridcolor\":\"white\",\"linecolor\":\"white\",\"ticks\":\"\"},\"radialaxis\":{\"gridcolor\":\"white\",\"linecolor\":\"white\",\"ticks\":\"\"}},\"ternary\":{\"bgcolor\":\"#E5ECF6\",\"aaxis\":{\"gridcolor\":\"white\",\"linecolor\":\"white\",\"ticks\":\"\"},\"baxis\":{\"gridcolor\":\"white\",\"linecolor\":\"white\",\"ticks\":\"\"},\"caxis\":{\"gridcolor\":\"white\",\"linecolor\":\"white\",\"ticks\":\"\"}},\"coloraxis\":{\"colorbar\":{\"outlinewidth\":0,\"ticks\":\"\"}},\"colorscale\":{\"sequential\":[[0.0,\"#0d0887\"],[0.1111111111111111,\"#46039f\"],[0.2222222222222222,\"#7201a8\"],[0.3333333333333333,\"#9c179e\"],[0.4444444444444444,\"#bd3786\"],[0.5555555555555556,\"#d8576b\"],[0.6666666666666666,\"#ed7953\"],[0.7777777777777778,\"#fb9f3a\"],[0.8888888888888888,\"#fdca26\"],[1.0,\"#f0f921\"]],\"sequentialminus\":[[0.0,\"#0d0887\"],[0.1111111111111111,\"#46039f\"],[0.2222222222222222,\"#7201a8\"],[0.3333333333333333,\"#9c179e\"],[0.4444444444444444,\"#bd3786\"],[0.5555555555555556,\"#d8576b\"],[0.6666666666666666,\"#ed7953\"],[0.7777777777777778,\"#fb9f3a\"],[0.8888888888888888,\"#fdca26\"],[1.0,\"#f0f921\"]],\"diverging\":[[0,\"#8e0152\"],[0.1,\"#c51b7d\"],[0.2,\"#de77ae\"],[0.3,\"#f1b6da\"],[0.4,\"#fde0ef\"],[0.5,\"#f7f7f7\"],[0.6,\"#e6f5d0\"],[0.7,\"#b8e186\"],[0.8,\"#7fbc41\"],[0.9,\"#4d9221\"],[1,\"#276419\"]]},\"xaxis\":{\"gridcolor\":\"white\",\"linecolor\":\"white\",\"ticks\":\"\",\"title\":{\"standoff\":15},\"zerolinecolor\":\"white\",\"automargin\":true,\"zerolinewidth\":2},\"yaxis\":{\"gridcolor\":\"white\",\"linecolor\":\"white\",\"ticks\":\"\",\"title\":{\"standoff\":15},\"zerolinecolor\":\"white\",\"automargin\":true,\"zerolinewidth\":2},\"scene\":{\"xaxis\":{\"backgroundcolor\":\"#E5ECF6\",\"gridcolor\":\"white\",\"linecolor\":\"white\",\"showbackground\":true,\"ticks\":\"\",\"zerolinecolor\":\"white\",\"gridwidth\":2},\"yaxis\":{\"backgroundcolor\":\"#E5ECF6\",\"gridcolor\":\"white\",\"linecolor\":\"white\",\"showbackground\":true,\"ticks\":\"\",\"zerolinecolor\":\"white\",\"gridwidth\":2},\"zaxis\":{\"backgroundcolor\":\"#E5ECF6\",\"gridcolor\":\"white\",\"linecolor\":\"white\",\"showbackground\":true,\"ticks\":\"\",\"zerolinecolor\":\"white\",\"gridwidth\":2}},\"shapedefaults\":{\"line\":{\"color\":\"#2a3f5f\"}},\"annotationdefaults\":{\"arrowcolor\":\"#2a3f5f\",\"arrowhead\":0,\"arrowwidth\":1},\"geo\":{\"bgcolor\":\"white\",\"landcolor\":\"#E5ECF6\",\"subunitcolor\":\"white\",\"showland\":true,\"showlakes\":true,\"lakecolor\":\"white\"},\"title\":{\"x\":0.05},\"mapbox\":{\"style\":\"light\"}}},\"legend\":{\"tracegroupgap\":0},\"margin\":{\"t\":60}},                        {\"responsive\": true}                    ).then(function(){\n",
       "                            \n",
       "var gd = document.getElementById('ff53eb76-dea6-4ac5-a6b9-85b498cc21ac');\n",
       "var x = new MutationObserver(function (mutations, observer) {{\n",
       "        var display = window.getComputedStyle(gd).display;\n",
       "        if (!display || display === 'none') {{\n",
       "            console.log([gd, 'removed!']);\n",
       "            Plotly.purge(gd);\n",
       "            observer.disconnect();\n",
       "        }}\n",
       "}});\n",
       "\n",
       "// Listen for the removal of the full notebook cells\n",
       "var notebookContainer = gd.closest('#notebook-container');\n",
       "if (notebookContainer) {{\n",
       "    x.observe(notebookContainer, {childList: true});\n",
       "}}\n",
       "\n",
       "// Listen for the clearing of the current output cell\n",
       "var outputEl = gd.closest('.output');\n",
       "if (outputEl) {{\n",
       "    x.observe(outputEl, {childList: true});\n",
       "}}\n",
       "\n",
       "                        })                };                            </script>        </div>\n",
       "</body>\n",
       "</html>"
      ]
     },
     "metadata": {},
     "output_type": "display_data"
    }
   ],
   "source": [
    "class_names = ['Cat', 'Dog']\n",
    "\n",
    "n_dogs = len(os.listdir('/kaggle/input/microsoft-catsvsdogs-dataset/PetImages/Dog'))\n",
    "n_cats = len(os.listdir('/kaggle/input/microsoft-catsvsdogs-dataset/PetImages/Cat'))\n",
    "n_images = [n_dogs, n_cats]\n",
    "px.pie(names=class_names,values=n_images)"
   ]
  },
  {
   "cell_type": "code",
   "execution_count": 4,
   "id": "bef360cd",
   "metadata": {
    "execution": {
     "iopub.execute_input": "2025-01-18T18:50:50.927050Z",
     "iopub.status.busy": "2025-01-18T18:50:50.926758Z",
     "iopub.status.idle": "2025-01-18T18:50:50.932181Z",
     "shell.execute_reply": "2025-01-18T18:50:50.931414Z"
    },
    "papermill": {
     "duration": 0.010654,
     "end_time": "2025-01-18T18:50:50.933748",
     "exception": false,
     "start_time": "2025-01-18T18:50:50.923094",
     "status": "completed"
    },
    "tags": []
   },
   "outputs": [],
   "source": [
    "try:\n",
    "    os.mkdir('/tmp/cats-v-dogs')\n",
    "    os.mkdir('/tmp/cats-v-dogs/training')\n",
    "    os.mkdir('/tmp/cats-v-dogs/validation')\n",
    "    os.mkdir('/tmp/cats-v-dogs/test')\n",
    "    os.mkdir('/tmp/cats-v-dogs/training/cats')\n",
    "    os.mkdir('/tmp/cats-v-dogs/training/dogs')\n",
    "    os.mkdir('/tmp/cats-v-dogs/validation/cats')\n",
    "    os.mkdir('/tmp/cats-v-dogs/validation/dogs')\n",
    "    os.mkdir('/tmp/cats-v-dogs/test/cats')\n",
    "    os.mkdir('/tmp/cats-v-dogs/test/dogs')\n",
    "except OSError:\n",
    "    print('Error failed to make directory')"
   ]
  },
  {
   "cell_type": "code",
   "execution_count": 5,
   "id": "3bd81faa",
   "metadata": {
    "execution": {
     "iopub.execute_input": "2025-01-18T18:50:50.941085Z",
     "iopub.status.busy": "2025-01-18T18:50:50.940742Z",
     "iopub.status.idle": "2025-01-18T18:50:50.945563Z",
     "shell.execute_reply": "2025-01-18T18:50:50.944644Z"
    },
    "papermill": {
     "duration": 0.010132,
     "end_time": "2025-01-18T18:50:50.947109",
     "exception": false,
     "start_time": "2025-01-18T18:50:50.936977",
     "status": "completed"
    },
    "tags": []
   },
   "outputs": [],
   "source": [
    "CAT_DIR = '/kaggle/input/microsoft-catsvsdogs-dataset/PetImages/Cat'\n",
    "DOG_DIR = '/kaggle/input/microsoft-catsvsdogs-dataset/PetImages/Dog'\n",
    "\n",
    "TRAINING_DIR = \"/tmp/cats-v-dogs/training/\"\n",
    "VALIDATION_DIR = \"/tmp/cats-v-dogs/validation/\"\n",
    "\n",
    "TRAINING_CATS = os.path.join(TRAINING_DIR, \"cats/\")\n",
    "VALIDATION_CATS = os.path.join(VALIDATION_DIR, \"cats/\")\n",
    "\n",
    "TRAINING_DOGS = os.path.join(TRAINING_DIR, \"dogs/\")\n",
    "VALIDATION_DOGS = os.path.join(VALIDATION_DIR, \"dogs/\")\n",
    "\n",
    "# Define whether to include test split or not\n",
    "INCLUDE_TEST = True"
   ]
  },
  {
   "cell_type": "code",
   "execution_count": 6,
   "id": "575f4876",
   "metadata": {
    "execution": {
     "iopub.execute_input": "2025-01-18T18:50:50.954426Z",
     "iopub.status.busy": "2025-01-18T18:50:50.954080Z",
     "iopub.status.idle": "2025-01-18T18:50:50.974790Z",
     "shell.execute_reply": "2025-01-18T18:50:50.973613Z"
    },
    "papermill": {
     "duration": 0.026195,
     "end_time": "2025-01-18T18:50:50.976499",
     "exception": false,
     "start_time": "2025-01-18T18:50:50.950304",
     "status": "completed"
    },
    "tags": []
   },
   "outputs": [
    {
     "name": "stdout",
     "output_type": "stream",
     "text": [
      "0\n",
      "0\n",
      "0\n",
      "0\n",
      "0\n",
      "0\n",
      "12501\n",
      "12501\n"
     ]
    }
   ],
   "source": [
    "print(len(os.listdir('/tmp/cats-v-dogs/training/cats')))\n",
    "print(len(os.listdir('/tmp/cats-v-dogs/training/dogs')))\n",
    "\n",
    "print(len(os.listdir('/tmp/cats-v-dogs/validation/cats')))\n",
    "print(len(os.listdir('/tmp/cats-v-dogs/validation/dogs')))\n",
    "\n",
    "print(len(os.listdir('/tmp/cats-v-dogs/test/cats')))\n",
    "print(len(os.listdir('/tmp/cats-v-dogs/test/dogs')))\n",
    "\n",
    "print(len(os.listdir(CAT_DIR)))\n",
    "print(len(os.listdir(DOG_DIR)))"
   ]
  },
  {
   "cell_type": "code",
   "execution_count": 7,
   "id": "598c70b9",
   "metadata": {
    "execution": {
     "iopub.execute_input": "2025-01-18T18:50:50.984126Z",
     "iopub.status.busy": "2025-01-18T18:50:50.983783Z",
     "iopub.status.idle": "2025-01-18T18:50:50.990927Z",
     "shell.execute_reply": "2025-01-18T18:50:50.989828Z"
    },
    "papermill": {
     "duration": 0.012643,
     "end_time": "2025-01-18T18:50:50.992490",
     "exception": false,
     "start_time": "2025-01-18T18:50:50.979847",
     "status": "completed"
    },
    "tags": []
   },
   "outputs": [],
   "source": [
    "def split_data(main_dir, training_dir, validation_dir, test_dir=None, include_test_split=True, split_size=0.9):\n",
    "    \n",
    "    files = []\n",
    "    for file in os.listdir(main_dir):\n",
    "        if os.path.getsize(os.path.join(main_dir, file)):\n",
    "            files.append(file)\n",
    "\n",
    "    shuffled_files = random.sample(files, len(files))\n",
    "    split = int(0.9 * len(shuffled_files))\n",
    "    \n",
    "    train = shuffled_files[:split]\n",
    "    split_valid_test = int(split + (len(shuffled_files)-split)/2)\n",
    "    if include_test_split:\n",
    "            validation = shuffled_files[split:split_valid_test] # validation split\n",
    "            test = shuffled_files[split_valid_test:]\n",
    "    else:\n",
    "        validation = shuffled_files[split:]\n",
    "        \n",
    "    for element in train:\n",
    "        copyfile(os.path.join(main_dir,  element), os.path.join(training_dir, element))\n",
    "\n",
    "    for element in validation:\n",
    "        copyfile(os.path.join(main_dir,  element), os.path.join(validation_dir, element))\n",
    "        \n",
    "    if include_test_split:\n",
    "        for element in test:\n",
    "            copyfile(os.path.join(main_dir,  element), os.path.join(test_dir, element)) \n",
    "    print(\"Split sucessful!\")"
   ]
  },
  {
   "cell_type": "code",
   "execution_count": 8,
   "id": "b638b1f9",
   "metadata": {
    "execution": {
     "iopub.execute_input": "2025-01-18T18:50:51.000086Z",
     "iopub.status.busy": "2025-01-18T18:50:50.999752Z",
     "iopub.status.idle": "2025-01-18T18:53:07.880278Z",
     "shell.execute_reply": "2025-01-18T18:53:07.879278Z"
    },
    "papermill": {
     "duration": 136.88812,
     "end_time": "2025-01-18T18:53:07.883840",
     "exception": false,
     "start_time": "2025-01-18T18:50:50.995720",
     "status": "completed"
    },
    "tags": []
   },
   "outputs": [
    {
     "name": "stdout",
     "output_type": "stream",
     "text": [
      "Split sucessful!\n",
      "Split sucessful!\n"
     ]
    }
   ],
   "source": [
    "split_data(CAT_DIR, '/tmp/cats-v-dogs/training/cats', '/tmp/cats-v-dogs/validation/cats', '/tmp/cats-v-dogs/test/cats',INCLUDE_TEST, 0.9)\n",
    "split_data(DOG_DIR, '/tmp/cats-v-dogs/training/dogs', '/tmp/cats-v-dogs/validation/dogs','/tmp/cats-v-dogs/test/dogs',INCLUDE_TEST, 0.9)"
   ]
  },
  {
   "cell_type": "code",
   "execution_count": 9,
   "id": "4206dc62",
   "metadata": {
    "execution": {
     "iopub.execute_input": "2025-01-18T18:53:07.891423Z",
     "iopub.status.busy": "2025-01-18T18:53:07.891079Z",
     "iopub.status.idle": "2025-01-18T18:53:07.911450Z",
     "shell.execute_reply": "2025-01-18T18:53:07.910294Z"
    },
    "papermill": {
     "duration": 0.026019,
     "end_time": "2025-01-18T18:53:07.913198",
     "exception": false,
     "start_time": "2025-01-18T18:53:07.887179",
     "status": "completed"
    },
    "tags": []
   },
   "outputs": [
    {
     "name": "stdout",
     "output_type": "stream",
     "text": [
      "11250\n",
      "11250\n",
      "625\n",
      "625\n",
      "625\n",
      "625\n"
     ]
    }
   ],
   "source": [
    "print(len(os.listdir('/tmp/cats-v-dogs/training/cats')))\n",
    "print(len(os.listdir('/tmp/cats-v-dogs/training/dogs')))\n",
    "\n",
    "print(len(os.listdir('/tmp/cats-v-dogs/validation/cats')))\n",
    "print(len(os.listdir('/tmp/cats-v-dogs/validation/dogs')))\n",
    "\n",
    "\n",
    "print(len(os.listdir('/tmp/cats-v-dogs/test/cats')))\n",
    "print(len(os.listdir('/tmp/cats-v-dogs/test/dogs')))"
   ]
  },
  {
   "cell_type": "code",
   "execution_count": null,
   "id": "fdcec464",
   "metadata": {
    "papermill": {
     "duration": 0.002955,
     "end_time": "2025-01-18T18:53:07.919628",
     "exception": false,
     "start_time": "2025-01-18T18:53:07.916673",
     "status": "completed"
    },
    "tags": []
   },
   "outputs": [],
   "source": []
  }
 ],
 "metadata": {
  "kaggle": {
   "accelerator": "none",
   "dataSources": [
    {
     "datasetId": 550917,
     "sourceId": 1003830,
     "sourceType": "datasetVersion"
    }
   ],
   "dockerImageVersionId": 30839,
   "isGpuEnabled": false,
   "isInternetEnabled": false,
   "language": "python",
   "sourceType": "notebook"
  },
  "kernelspec": {
   "display_name": "Python 3",
   "language": "python",
   "name": "python3"
  },
  "language_info": {
   "codemirror_mode": {
    "name": "ipython",
    "version": 3
   },
   "file_extension": ".py",
   "mimetype": "text/x-python",
   "name": "python",
   "nbconvert_exporter": "python",
   "pygments_lexer": "ipython3",
   "version": "3.10.12"
  },
  "papermill": {
   "default_parameters": {},
   "duration": 144.114161,
   "end_time": "2025-01-18T18:53:08.542642",
   "environment_variables": {},
   "exception": null,
   "input_path": "__notebook__.ipynb",
   "output_path": "__notebook__.ipynb",
   "parameters": {},
   "start_time": "2025-01-18T18:50:44.428481",
   "version": "2.6.0"
  }
 },
 "nbformat": 4,
 "nbformat_minor": 5
}
